{
 "cells": [
  {
   "cell_type": "markdown",
   "metadata": {},
   "source": [
    "# Evaluating the movie lens dataset\n",
    "The aim of this excecise is to get an understanding on the movie lens dataset as a whole, not individual users or moves. The dataset is loaded in a panda dataframe, to get some overall stats: there is  100k rows, with the columns userId, movieId, rating and timestamp. \n",
    "\n",
    "The focus is on rating and timestamp. describe() on rating reveals that the mean is 3.54. We can also see that n.5 rates is less common\n",
    "\n",
    "#### no of ratings per week \n",
    "The ratings is grouped into buckets (weeks) The scatterplot reveals ~5 weeks with >1k ratings. It looks like there is a symmetry when looking at the scatterplot\n",
    "\n",
    "Another plot is made with accumulated no of ratings. There is one very distinct 'jump'\n",
    "\n",
    "#### questions left to answer:\n",
    "- When was n.5 introduced?\n",
    "- Find the reason for top-rating weeks (new blockbuster movie - or another reason?) \n",
    "- There are a couple of weeks that have no ratings. What can be the reason for that? Is there a correlation with top-rating weeks?"
   ]
  },
  {
   "cell_type": "code",
   "execution_count": 17,
   "metadata": {},
   "outputs": [],
   "source": [
    "from __future__ import print_function, division\n",
    "\n",
    "import sys\n",
    "\n",
    "ROOT_PATH = '/Users/asapehrsson/dev/learn/hadoop_spark_jupyter/'\n",
    "\n",
    "if not [x for x in sys.path if ROOT_PATH in x]:\n",
    "    sys.path.append(ROOT_PATH + \"/code\")\n",
    "\n",
    "import movielens_helper as mh\n",
    "\n",
    "% matplotlib inline\n"
   ]
  },
  {
   "cell_type": "code",
   "execution_count": 18,
   "metadata": {},
   "outputs": [
    {
     "name": "stdout",
     "output_type": "stream",
     "text": [
      "(100004, 4)\n"
     ]
    },
    {
     "data": {
      "text/html": [
       "<div>\n",
       "<style scoped>\n",
       "    .dataframe tbody tr th:only-of-type {\n",
       "        vertical-align: middle;\n",
       "    }\n",
       "\n",
       "    .dataframe tbody tr th {\n",
       "        vertical-align: top;\n",
       "    }\n",
       "\n",
       "    .dataframe thead th {\n",
       "        text-align: right;\n",
       "    }\n",
       "</style>\n",
       "<table border=\"1\" class=\"dataframe\">\n",
       "  <thead>\n",
       "    <tr style=\"text-align: right;\">\n",
       "      <th></th>\n",
       "      <th>userId</th>\n",
       "      <th>movieId</th>\n",
       "      <th>rating</th>\n",
       "      <th>timestamp</th>\n",
       "    </tr>\n",
       "  </thead>\n",
       "  <tbody>\n",
       "    <tr>\n",
       "      <th>0</th>\n",
       "      <td>1</td>\n",
       "      <td>31</td>\n",
       "      <td>2.5</td>\n",
       "      <td>1260759144</td>\n",
       "    </tr>\n",
       "    <tr>\n",
       "      <th>1</th>\n",
       "      <td>1</td>\n",
       "      <td>1029</td>\n",
       "      <td>3.0</td>\n",
       "      <td>1260759179</td>\n",
       "    </tr>\n",
       "    <tr>\n",
       "      <th>2</th>\n",
       "      <td>1</td>\n",
       "      <td>1061</td>\n",
       "      <td>3.0</td>\n",
       "      <td>1260759182</td>\n",
       "    </tr>\n",
       "    <tr>\n",
       "      <th>3</th>\n",
       "      <td>1</td>\n",
       "      <td>1129</td>\n",
       "      <td>2.0</td>\n",
       "      <td>1260759185</td>\n",
       "    </tr>\n",
       "    <tr>\n",
       "      <th>4</th>\n",
       "      <td>1</td>\n",
       "      <td>1172</td>\n",
       "      <td>4.0</td>\n",
       "      <td>1260759205</td>\n",
       "    </tr>\n",
       "  </tbody>\n",
       "</table>\n",
       "</div>"
      ],
      "text/plain": [
       "   userId  movieId  rating   timestamp\n",
       "0       1       31     2.5  1260759144\n",
       "1       1     1029     3.0  1260759179\n",
       "2       1     1061     3.0  1260759182\n",
       "3       1     1129     2.0  1260759185\n",
       "4       1     1172     4.0  1260759205"
      ]
     },
     "execution_count": 18,
     "metadata": {},
     "output_type": "execute_result"
    }
   ],
   "source": [
    "ratings_df = mh.get_ratings_df(mh.ROOT_PATH)\n",
    "\n",
    "# short stats - length and first posts\n",
    "type(ratings_df)\n",
    "print(ratings_df.shape)\n",
    "ratings_df.head()\n"
   ]
  },
  {
   "cell_type": "code",
   "execution_count": 19,
   "metadata": {},
   "outputs": [
    {
     "data": {
      "text/plain": [
       "count    100004.000000\n",
       "mean          3.543608\n",
       "std           1.058064\n",
       "min           0.500000\n",
       "25%           3.000000\n",
       "50%           4.000000\n",
       "75%           4.000000\n",
       "max           5.000000\n",
       "Name: rating, dtype: float64"
      ]
     },
     "execution_count": 19,
     "metadata": {},
     "output_type": "execute_result"
    }
   ],
   "source": [
    "#stats for all ratings in file. Interesting that mean is >3\n",
    "\n",
    "ratings_df[mh.RATING_COL_NAME].describe()"
   ]
  },
  {
   "cell_type": "code",
   "execution_count": 20,
   "metadata": {},
   "outputs": [
    {
     "data": {
      "text/plain": [
       "0.5     1101\n",
       "1.0     3326\n",
       "1.5     1687\n",
       "2.0     7271\n",
       "2.5     4449\n",
       "3.0    20064\n",
       "3.5    10538\n",
       "4.0    28750\n",
       "4.5     7723\n",
       "5.0    15095\n",
       "Name: rating, dtype: int64"
      ]
     },
     "execution_count": 20,
     "metadata": {},
     "output_type": "execute_result"
    }
   ],
   "source": [
    "#how many 5, 4 etc. At some point in time a 10-grade scale is introduced.\n",
    "\n",
    "ratings_df[mh.RATING_COL_NAME].value_counts().sort_index()"
   ]
  },
  {
   "cell_type": "code",
   "execution_count": 21,
   "metadata": {},
   "outputs": [
    {
     "data": {
      "text/html": [
       "<div>\n",
       "<style scoped>\n",
       "    .dataframe tbody tr th:only-of-type {\n",
       "        vertical-align: middle;\n",
       "    }\n",
       "\n",
       "    .dataframe tbody tr th {\n",
       "        vertical-align: top;\n",
       "    }\n",
       "\n",
       "    .dataframe thead th {\n",
       "        text-align: right;\n",
       "    }\n",
       "</style>\n",
       "<table border=\"1\" class=\"dataframe\">\n",
       "  <thead>\n",
       "    <tr style=\"text-align: right;\">\n",
       "      <th></th>\n",
       "      <th>userId</th>\n",
       "      <th>movieId</th>\n",
       "      <th>rating</th>\n",
       "      <th>timestamp</th>\n",
       "      <th>y_w</th>\n",
       "    </tr>\n",
       "  </thead>\n",
       "  <tbody>\n",
       "    <tr>\n",
       "      <th>0</th>\n",
       "      <td>1</td>\n",
       "      <td>31</td>\n",
       "      <td>2.5</td>\n",
       "      <td>1260759144</td>\n",
       "      <td>200951</td>\n",
       "    </tr>\n",
       "    <tr>\n",
       "      <th>1</th>\n",
       "      <td>1</td>\n",
       "      <td>1029</td>\n",
       "      <td>3.0</td>\n",
       "      <td>1260759179</td>\n",
       "      <td>200951</td>\n",
       "    </tr>\n",
       "    <tr>\n",
       "      <th>2</th>\n",
       "      <td>1</td>\n",
       "      <td>1061</td>\n",
       "      <td>3.0</td>\n",
       "      <td>1260759182</td>\n",
       "      <td>200951</td>\n",
       "    </tr>\n",
       "    <tr>\n",
       "      <th>3</th>\n",
       "      <td>1</td>\n",
       "      <td>1129</td>\n",
       "      <td>2.0</td>\n",
       "      <td>1260759185</td>\n",
       "      <td>200951</td>\n",
       "    </tr>\n",
       "    <tr>\n",
       "      <th>4</th>\n",
       "      <td>1</td>\n",
       "      <td>1172</td>\n",
       "      <td>4.0</td>\n",
       "      <td>1260759205</td>\n",
       "      <td>200951</td>\n",
       "    </tr>\n",
       "  </tbody>\n",
       "</table>\n",
       "</div>"
      ],
      "text/plain": [
       "   userId  movieId  rating   timestamp     y_w\n",
       "0       1       31     2.5  1260759144  200951\n",
       "1       1     1029     3.0  1260759179  200951\n",
       "2       1     1061     3.0  1260759182  200951\n",
       "3       1     1129     2.0  1260759185  200951\n",
       "4       1     1172     4.0  1260759205  200951"
      ]
     },
     "execution_count": 21,
     "metadata": {},
     "output_type": "execute_result"
    }
   ],
   "source": [
    "#Add column with year-week\n",
    "ratings_w_y_w_df = mh.add_year_week(ratings_df)\n",
    "ratings_w_y_w_df.head()"
   ]
  },
  {
   "cell_type": "code",
   "execution_count": 22,
   "metadata": {},
   "outputs": [
    {
     "data": {
      "text/html": [
       "<div>\n",
       "<style scoped>\n",
       "    .dataframe tbody tr th:only-of-type {\n",
       "        vertical-align: middle;\n",
       "    }\n",
       "\n",
       "    .dataframe tbody tr th {\n",
       "        vertical-align: top;\n",
       "    }\n",
       "\n",
       "    .dataframe thead th {\n",
       "        text-align: right;\n",
       "    }\n",
       "</style>\n",
       "<table border=\"1\" class=\"dataframe\">\n",
       "  <thead>\n",
       "    <tr style=\"text-align: right;\">\n",
       "      <th></th>\n",
       "      <th>y_w</th>\n",
       "      <th>no_of_ratings</th>\n",
       "    </tr>\n",
       "  </thead>\n",
       "  <tbody>\n",
       "    <tr>\n",
       "      <th>0</th>\n",
       "      <td>200047</td>\n",
       "      <td>2603</td>\n",
       "    </tr>\n",
       "    <tr>\n",
       "      <th>1</th>\n",
       "      <td>199950</td>\n",
       "      <td>1462</td>\n",
       "    </tr>\n",
       "    <tr>\n",
       "      <th>2</th>\n",
       "      <td>201104</td>\n",
       "      <td>1307</td>\n",
       "    </tr>\n",
       "    <tr>\n",
       "      <th>3</th>\n",
       "      <td>200512</td>\n",
       "      <td>1261</td>\n",
       "    </tr>\n",
       "    <tr>\n",
       "      <th>4</th>\n",
       "      <td>200031</td>\n",
       "      <td>1070</td>\n",
       "    </tr>\n",
       "  </tbody>\n",
       "</table>\n",
       "</div>"
      ],
      "text/plain": [
       "      y_w  no_of_ratings\n",
       "0  200047           2603\n",
       "1  199950           1462\n",
       "2  201104           1307\n",
       "3  200512           1261\n",
       "4  200031           1070"
      ]
     },
     "execution_count": 22,
     "metadata": {},
     "output_type": "execute_result"
    }
   ],
   "source": [
    "#Find the most active weeks\n",
    "\n",
    "ratings_per_week_df = ratings_w_y_w_df\\\n",
    "    .groupby(mh.YEAR_WEEK_COL_NAME)[[mh.RATING_COL_NAME]]\\\n",
    "    .count()\\\n",
    "    .sort_values(ascending=False, by=mh.RATING_COL_NAME)\n",
    "\n",
    "ratings_per_week_df.rename(columns={mh.RATING_COL_NAME:mh.NO_OF_RATINGS_COL_NAME}, inplace=True)\n",
    "\n",
    "ratings_per_week_df.reset_index(inplace=True, drop=False)\n",
    "ratings_per_week_df.head()\n",
    "\n"
   ]
  },
  {
   "cell_type": "code",
   "execution_count": 23,
   "metadata": {},
   "outputs": [
    {
     "data": {
      "text/html": [
       "<div>\n",
       "<style scoped>\n",
       "    .dataframe tbody tr th:only-of-type {\n",
       "        vertical-align: middle;\n",
       "    }\n",
       "\n",
       "    .dataframe tbody tr th {\n",
       "        vertical-align: top;\n",
       "    }\n",
       "\n",
       "    .dataframe thead th {\n",
       "        text-align: right;\n",
       "    }\n",
       "</style>\n",
       "<table border=\"1\" class=\"dataframe\">\n",
       "  <thead>\n",
       "    <tr style=\"text-align: right;\">\n",
       "      <th></th>\n",
       "      <th>y_w</th>\n",
       "      <th>no_of_ratings</th>\n",
       "    </tr>\n",
       "  </thead>\n",
       "  <tbody>\n",
       "    <tr>\n",
       "      <th>989</th>\n",
       "      <td>201021</td>\n",
       "      <td>1</td>\n",
       "    </tr>\n",
       "    <tr>\n",
       "      <th>990</th>\n",
       "      <td>201216</td>\n",
       "      <td>1</td>\n",
       "    </tr>\n",
       "    <tr>\n",
       "      <th>991</th>\n",
       "      <td>199842</td>\n",
       "      <td>1</td>\n",
       "    </tr>\n",
       "    <tr>\n",
       "      <th>992</th>\n",
       "      <td>201411</td>\n",
       "      <td>1</td>\n",
       "    </tr>\n",
       "    <tr>\n",
       "      <th>993</th>\n",
       "      <td>200140</td>\n",
       "      <td>1</td>\n",
       "    </tr>\n",
       "  </tbody>\n",
       "</table>\n",
       "</div>"
      ],
      "text/plain": [
       "        y_w  no_of_ratings\n",
       "989  201021              1\n",
       "990  201216              1\n",
       "991  199842              1\n",
       "992  201411              1\n",
       "993  200140              1"
      ]
     },
     "execution_count": 23,
     "metadata": {},
     "output_type": "execute_result"
    }
   ],
   "source": [
    "#compare with the least active. A big difference! \n",
    "\n",
    "ratings_per_week_df.tail()"
   ]
  },
  {
   "cell_type": "code",
   "execution_count": 24,
   "metadata": {},
   "outputs": [
    {
     "name": "stdout",
     "output_type": "stream",
     "text": [
      "exist\n"
     ]
    },
    {
     "data": {
      "text/html": [
       "<div>\n",
       "<style scoped>\n",
       "    .dataframe tbody tr th:only-of-type {\n",
       "        vertical-align: middle;\n",
       "    }\n",
       "\n",
       "    .dataframe tbody tr th {\n",
       "        vertical-align: top;\n",
       "    }\n",
       "\n",
       "    .dataframe thead th {\n",
       "        text-align: right;\n",
       "    }\n",
       "</style>\n",
       "<table border=\"1\" class=\"dataframe\">\n",
       "  <thead>\n",
       "    <tr style=\"text-align: right;\">\n",
       "      <th></th>\n",
       "      <th>y_w</th>\n",
       "      <th>ge_timestamp</th>\n",
       "      <th>lt_timestamp</th>\n",
       "      <th>no_of_ratings</th>\n",
       "    </tr>\n",
       "  </thead>\n",
       "  <tbody>\n",
       "    <tr>\n",
       "      <th>0</th>\n",
       "      <td>199502</td>\n",
       "      <td>789652009</td>\n",
       "      <td>790256809</td>\n",
       "      <td>3.0</td>\n",
       "    </tr>\n",
       "    <tr>\n",
       "      <th>1</th>\n",
       "      <td>199503</td>\n",
       "      <td>790256809</td>\n",
       "      <td>790861609</td>\n",
       "      <td>0.0</td>\n",
       "    </tr>\n",
       "    <tr>\n",
       "      <th>2</th>\n",
       "      <td>199504</td>\n",
       "      <td>790861609</td>\n",
       "      <td>791466409</td>\n",
       "      <td>0.0</td>\n",
       "    </tr>\n",
       "    <tr>\n",
       "      <th>3</th>\n",
       "      <td>199505</td>\n",
       "      <td>791466409</td>\n",
       "      <td>792071209</td>\n",
       "      <td>0.0</td>\n",
       "    </tr>\n",
       "    <tr>\n",
       "      <th>4</th>\n",
       "      <td>199506</td>\n",
       "      <td>792071209</td>\n",
       "      <td>792676009</td>\n",
       "      <td>0.0</td>\n",
       "    </tr>\n",
       "  </tbody>\n",
       "</table>\n",
       "</div>"
      ],
      "text/plain": [
       "      y_w  ge_timestamp  lt_timestamp  no_of_ratings\n",
       "0  199502     789652009     790256809            3.0\n",
       "1  199503     790256809     790861609            0.0\n",
       "2  199504     790861609     791466409            0.0\n",
       "3  199505     791466409     792071209            0.0\n",
       "4  199506     792071209     792676009            0.0"
      ]
     },
     "execution_count": 24,
     "metadata": {},
     "output_type": "execute_result"
    }
   ],
   "source": [
    "\n",
    "all_year_weeks = mh.get_year_weeks_datetime_df(mh.ROOT_PATH, ratings_df)\n",
    "ratings_per_week_df = mh.fill_in_the_blanks(ratings_per_week_df, all_year_weeks)\n",
    "\n",
    "ratings_per_week_df.head()\n"
   ]
  },
  {
   "cell_type": "code",
   "execution_count": 25,
   "metadata": {},
   "outputs": [
    {
     "data": {
      "text/plain": [
       "count    1136.000000\n",
       "mean       88.031690\n",
       "std       167.534058\n",
       "min         0.000000\n",
       "25%         6.000000\n",
       "50%        26.500000\n",
       "75%       100.250000\n",
       "max      2603.000000\n",
       "Name: no_of_ratings, dtype: float64"
      ]
     },
     "execution_count": 25,
     "metadata": {},
     "output_type": "execute_result"
    }
   ],
   "source": [
    "ratings_per_week_df[mh.NO_OF_RATINGS_COL_NAME].describe()"
   ]
  },
  {
   "cell_type": "code",
   "execution_count": 27,
   "metadata": {},
   "outputs": [
    {
     "data": {
      "text/plain": [
       "<matplotlib.axes._subplots.AxesSubplot at 0x1130d70f0>"
      ]
     },
     "execution_count": 27,
     "metadata": {},
     "output_type": "execute_result"
    },
    {
     "data": {
      "image/png": "[encoded data removed]",
      "text/plain": [
       "<Figure size 1800x360 with 1 Axes>"
      ]
     },
     "metadata": {},
     "output_type": "display_data"
    }
   ],
   "source": [
    "# add accumulated no of rates\n",
    "ratings_per_week_df[mh.CUMULATIVE_NO_OF_RATINGS_COL_NAME] = ratings_per_week_df[mh.NO_OF_RATINGS_COL_NAME].cumsum()\n",
    "ratings_per_week_df.plot(y=mh.CUMULATIVE_NO_OF_RATINGS_COL_NAME, x=mh.Y_W_TIMESTAMP_GE_COL_NAME, figsize=[25, 5])\n",
    "\n",
    "# test with scatter instead of plot\n",
    "# ratings_per_week_df.loc[ratings_per_week_df[mh.NO_OF_RATINGS_COL_NAME] > 0] \\\n",
    "#    .plot(kind='scatter', x=mh.Y_W_TIMESTAMP_GE_COL_NAME, y=mh.CUMULATIVE_NO_OF_RATINGS_COL_NAME,\n",
    "#          style=['o', 'rx'], s=1, figsize=[25, 5])\n"
   ]
  },
  {
   "cell_type": "code",
   "execution_count": 28,
   "metadata": {},
   "outputs": [
    {
     "data": {
      "text/plain": [
       "<matplotlib.axes._subplots.AxesSubplot at 0x1130fe7f0>"
      ]
     },
     "execution_count": 28,
     "metadata": {},
     "output_type": "execute_result"
    },
    {
     "data": {
      "image/png": "[encoded data removed]",
      "text/plain": [
       "<Figure size 1800x720 with 1 Axes>"
      ]
     },
     "metadata": {},
     "output_type": "display_data"
    }
   ],
   "source": [
    "# drop all zero votes\n",
    "\n",
    "ratings_per_week_df.loc[ratings_per_week_df[mh.NO_OF_RATINGS_COL_NAME] > 0] \\\n",
    "    .plot(kind='scatter', x=mh.Y_W_TIMESTAMP_GE_COL_NAME, y=mh.NO_OF_RATINGS_COL_NAME, figsize=[25, 10])\n"
   ]
  },
  {
   "cell_type": "code",
   "execution_count": 29,
   "metadata": {},
   "outputs": [
    {
     "data": {
      "text/html": [
       "<div>\n",
       "<style scoped>\n",
       "    .dataframe tbody tr th:only-of-type {\n",
       "        vertical-align: middle;\n",
       "    }\n",
       "\n",
       "    .dataframe tbody tr th {\n",
       "        vertical-align: top;\n",
       "    }\n",
       "\n",
       "    .dataframe thead th {\n",
       "        text-align: right;\n",
       "    }\n",
       "</style>\n",
       "<table border=\"1\" class=\"dataframe\">\n",
       "  <thead>\n",
       "    <tr style=\"text-align: right;\">\n",
       "      <th></th>\n",
       "      <th>y_w</th>\n",
       "      <th>ge_timestamp</th>\n",
       "      <th>lt_timestamp</th>\n",
       "      <th>no_of_ratings</th>\n",
       "      <th>cumsum_no_of_ratings</th>\n",
       "    </tr>\n",
       "  </thead>\n",
       "  <tbody>\n",
       "    <tr>\n",
       "      <th>306</th>\n",
       "      <td>200047</td>\n",
       "      <td>974720809</td>\n",
       "      <td>975325609</td>\n",
       "      <td>2603.0</td>\n",
       "      <td>29324.0</td>\n",
       "    </tr>\n",
       "    <tr>\n",
       "      <th>257</th>\n",
       "      <td>199950</td>\n",
       "      <td>945085609</td>\n",
       "      <td>945690409</td>\n",
       "      <td>1462.0</td>\n",
       "      <td>16621.0</td>\n",
       "    </tr>\n",
       "    <tr>\n",
       "      <th>837</th>\n",
       "      <td>201104</td>\n",
       "      <td>1295869609</td>\n",
       "      <td>1296474409</td>\n",
       "      <td>1307.0</td>\n",
       "      <td>76090.0</td>\n",
       "    </tr>\n",
       "    <tr>\n",
       "      <th>532</th>\n",
       "      <td>200512</td>\n",
       "      <td>1111405609</td>\n",
       "      <td>1112010409</td>\n",
       "      <td>1261.0</td>\n",
       "      <td>51496.0</td>\n",
       "    </tr>\n",
       "    <tr>\n",
       "      <th>290</th>\n",
       "      <td>200031</td>\n",
       "      <td>965044009</td>\n",
       "      <td>965648809</td>\n",
       "      <td>1070.0</td>\n",
       "      <td>24982.0</td>\n",
       "    </tr>\n",
       "  </tbody>\n",
       "</table>\n",
       "</div>"
      ],
      "text/plain": [
       "        y_w  ge_timestamp  lt_timestamp  no_of_ratings  cumsum_no_of_ratings\n",
       "306  200047     974720809     975325609         2603.0               29324.0\n",
       "257  199950     945085609     945690409         1462.0               16621.0\n",
       "837  201104    1295869609    1296474409         1307.0               76090.0\n",
       "532  200512    1111405609    1112010409         1261.0               51496.0\n",
       "290  200031     965044009     965648809         1070.0               24982.0"
      ]
     },
     "execution_count": 29,
     "metadata": {},
     "output_type": "execute_result"
    }
   ],
   "source": [
    "sorted_on_ratings = ratings_per_week_df.sort_values(ascending=False, by=mh.NO_OF_RATINGS_COL_NAME)\n",
    "\n",
    "sorted_on_ratings.head()"
   ]
  },
  {
   "cell_type": "code",
   "execution_count": 30,
   "metadata": {},
   "outputs": [
    {
     "data": {
      "text/html": [
       "<div>\n",
       "<style scoped>\n",
       "    .dataframe tbody tr th:only-of-type {\n",
       "        vertical-align: middle;\n",
       "    }\n",
       "\n",
       "    .dataframe tbody tr th {\n",
       "        vertical-align: top;\n",
       "    }\n",
       "\n",
       "    .dataframe thead th {\n",
       "        text-align: right;\n",
       "    }\n",
       "</style>\n",
       "<table border=\"1\" class=\"dataframe\">\n",
       "  <thead>\n",
       "    <tr style=\"text-align: right;\">\n",
       "      <th></th>\n",
       "      <th>y_w</th>\n",
       "      <th>ge_timestamp</th>\n",
       "      <th>lt_timestamp</th>\n",
       "      <th>no_of_ratings</th>\n",
       "      <th>cumsum_no_of_ratings</th>\n",
       "    </tr>\n",
       "  </thead>\n",
       "  <tbody>\n",
       "    <tr>\n",
       "      <th>1</th>\n",
       "      <td>199503</td>\n",
       "      <td>790256809</td>\n",
       "      <td>790861609</td>\n",
       "      <td>0.0</td>\n",
       "      <td>3.0</td>\n",
       "    </tr>\n",
       "    <tr>\n",
       "      <th>2</th>\n",
       "      <td>199504</td>\n",
       "      <td>790861609</td>\n",
       "      <td>791466409</td>\n",
       "      <td>0.0</td>\n",
       "      <td>3.0</td>\n",
       "    </tr>\n",
       "    <tr>\n",
       "      <th>3</th>\n",
       "      <td>199505</td>\n",
       "      <td>791466409</td>\n",
       "      <td>792071209</td>\n",
       "      <td>0.0</td>\n",
       "      <td>3.0</td>\n",
       "    </tr>\n",
       "    <tr>\n",
       "      <th>4</th>\n",
       "      <td>199506</td>\n",
       "      <td>792071209</td>\n",
       "      <td>792676009</td>\n",
       "      <td>0.0</td>\n",
       "      <td>3.0</td>\n",
       "    </tr>\n",
       "    <tr>\n",
       "      <th>5</th>\n",
       "      <td>199507</td>\n",
       "      <td>792676009</td>\n",
       "      <td>793280809</td>\n",
       "      <td>0.0</td>\n",
       "      <td>3.0</td>\n",
       "    </tr>\n",
       "  </tbody>\n",
       "</table>\n",
       "</div>"
      ],
      "text/plain": [
       "      y_w  ge_timestamp  lt_timestamp  no_of_ratings  cumsum_no_of_ratings\n",
       "1  199503     790256809     790861609            0.0                   3.0\n",
       "2  199504     790861609     791466409            0.0                   3.0\n",
       "3  199505     791466409     792071209            0.0                   3.0\n",
       "4  199506     792071209     792676009            0.0                   3.0\n",
       "5  199507     792676009     793280809            0.0                   3.0"
      ]
     },
     "execution_count": 30,
     "metadata": {},
     "output_type": "execute_result"
    }
   ],
   "source": [
    "no_ratings_week_df = ratings_per_week_df.loc[ratings_per_week_df[mh.NO_OF_RATINGS_COL_NAME] == 0]\n",
    "no_ratings_week_df.head()"
   ]
  },
  {
   "cell_type": "code",
   "execution_count": 31,
   "metadata": {},
   "outputs": [
    {
     "data": {
      "text/html": [
       "<div>\n",
       "<style scoped>\n",
       "    .dataframe tbody tr th:only-of-type {\n",
       "        vertical-align: middle;\n",
       "    }\n",
       "\n",
       "    .dataframe tbody tr th {\n",
       "        vertical-align: top;\n",
       "    }\n",
       "\n",
       "    .dataframe thead th {\n",
       "        text-align: right;\n",
       "    }\n",
       "</style>\n",
       "<table border=\"1\" class=\"dataframe\">\n",
       "  <thead>\n",
       "    <tr style=\"text-align: right;\">\n",
       "      <th></th>\n",
       "      <th>y_w</th>\n",
       "      <th>ge_timestamp</th>\n",
       "      <th>lt_timestamp</th>\n",
       "      <th>no_of_ratings</th>\n",
       "      <th>cumsum_no_of_ratings</th>\n",
       "    </tr>\n",
       "  </thead>\n",
       "  <tbody>\n",
       "    <tr>\n",
       "      <th>716</th>\n",
       "      <td>200840</td>\n",
       "      <td>1222688809</td>\n",
       "      <td>1223293609</td>\n",
       "      <td>0.0</td>\n",
       "      <td>67494.0</td>\n",
       "    </tr>\n",
       "    <tr>\n",
       "      <th>737</th>\n",
       "      <td>200909</td>\n",
       "      <td>1235389609</td>\n",
       "      <td>1235994409</td>\n",
       "      <td>0.0</td>\n",
       "      <td>69515.0</td>\n",
       "    </tr>\n",
       "    <tr>\n",
       "      <th>904</th>\n",
       "      <td>201219</td>\n",
       "      <td>1336391209</td>\n",
       "      <td>1336996009</td>\n",
       "      <td>0.0</td>\n",
       "      <td>79797.0</td>\n",
       "    </tr>\n",
       "    <tr>\n",
       "      <th>969</th>\n",
       "      <td>201332</td>\n",
       "      <td>1375703209</td>\n",
       "      <td>1376308009</td>\n",
       "      <td>0.0</td>\n",
       "      <td>84514.0</td>\n",
       "    </tr>\n",
       "    <tr>\n",
       "      <th>985</th>\n",
       "      <td>201348</td>\n",
       "      <td>1385380009</td>\n",
       "      <td>1385984809</td>\n",
       "      <td>0.0</td>\n",
       "      <td>84836.0</td>\n",
       "    </tr>\n",
       "  </tbody>\n",
       "</table>\n",
       "</div>"
      ],
      "text/plain": [
       "        y_w  ge_timestamp  lt_timestamp  no_of_ratings  cumsum_no_of_ratings\n",
       "716  200840    1222688809    1223293609            0.0               67494.0\n",
       "737  200909    1235389609    1235994409            0.0               69515.0\n",
       "904  201219    1336391209    1336996009            0.0               79797.0\n",
       "969  201332    1375703209    1376308009            0.0               84514.0\n",
       "985  201348    1385380009    1385984809            0.0               84836.0"
      ]
     },
     "execution_count": 31,
     "metadata": {},
     "output_type": "execute_result"
    }
   ],
   "source": [
    "no_ratings_week_df.tail()"
   ]
  },
  {
   "cell_type": "code",
   "execution_count": 32,
   "metadata": {},
   "outputs": [
    {
     "name": "stderr",
     "output_type": "stream",
     "text": [
      "/usr/local/lib/python3.6/site-packages/ipykernel_launcher.py:1: SettingWithCopyWarning: \n",
      "A value is trying to be set on a copy of a slice from a DataFrame.\n",
      "Try using .loc[row_indexer,col_indexer] = value instead\n",
      "\n",
      "See the caveats in the documentation: http://pandas.pydata.org/pandas-docs/stable/indexing.html#indexing-view-versus-copy\n",
      "  \"\"\"Entry point for launching an IPython kernel.\n"
     ]
    },
    {
     "data": {
      "text/plain": [
       "<matplotlib.axes._subplots.AxesSubplot at 0x111c18940>"
      ]
     },
     "execution_count": 32,
     "metadata": {},
     "output_type": "execute_result"
    },
    {
     "data": {
      "image/png": "[encoded data removed]",
      "text/plain": [
       "<Figure size 1800x360 with 1 Axes>"
      ]
     },
     "metadata": {},
     "output_type": "display_data"
    }
   ],
   "source": [
    "no_ratings_week_df['helper'] = 1\n",
    "no_ratings_week_df.plot(y='helper', x=mh.Y_W_TIMESTAMP_GE_COL_NAME, figsize=[25, 5], kind='scatter')"
   ]
  },
  {
   "cell_type": "code",
   "execution_count": null,
   "metadata": {},
   "outputs": [],
   "source": []
  }
 ],
 "metadata": {
  "kernelspec": {
   "display_name": "Python 3",
   "language": "python",
   "name": "python3"
  },
  "language_info": {
   "codemirror_mode": {
    "name": "ipython",
    "version": 3
   },
   "file_extension": ".py",
   "mimetype": "text/x-python",
   "name": "python",
   "nbconvert_exporter": "python",
   "pygments_lexer": "ipython3",
   "version": "3.6.4"
  }
 },
 "nbformat": 4,
 "nbformat_minor": 2
}
