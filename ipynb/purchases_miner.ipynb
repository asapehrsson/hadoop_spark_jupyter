{
 "cells": [
  {
   "cell_type": "markdown",
   "metadata": {},
   "source": [
    "## Evaluate purchases file"
   ]
  },
  {
   "cell_type": "code",
   "execution_count": 4,
   "metadata": {},
   "outputs": [],
   "source": [
    "import findspark\n",
    "\n",
    "from IPython.display import display\n",
    "from pyspark.sql import SparkSession\n",
    "\n",
    "\n",
    "findspark.init(\"/usr/local/spark-2.3.0-bin-hadoop2.7/\")\n",
    "\n",
    "spark = SparkSession.builder.appName(\"basics\").getOrCreate()"
   ]
  },
  {
   "cell_type": "markdown",
   "metadata": {},
   "source": [
    "## Read file, store is key, sales is value. "
   ]
  },
  {
   "cell_type": "code",
   "execution_count": 5,
   "metadata": {},
   "outputs": [
    {
     "name": "stdout",
     "output_type": "stream",
     "text": [
      "Number of entries: 100\n"
     ]
    }
   ],
   "source": [
    "test_file = \"/Users/asapehrsson/dev/learn/intro_to_hadoop_and_mapreduce/data/purchases_sample.tsv\"\n",
    "\n",
    "test_data = spark.sparkContext.textFile(test_file) \\\n",
    "    .map(lambda line: line.split('\\t')) \\\n",
    "    .filter(lambda line: len(line) == 6) \\\n",
    "    .map(lambda line: (line[2], line[4]))  \\\n",
    "    .sortByKey()\\\n",
    "    .collect()\n",
    "\n",
    "print(\"Number of entries:\", len(test_data))\n"
   ]
  },
  {
   "cell_type": "markdown",
   "metadata": {},
   "source": [
    "## Read file, store is key, sales is value. Calculate total sales per store."
   ]
  },
  {
   "cell_type": "code",
   "execution_count": 6,
   "metadata": {},
   "outputs": [
    {
     "name": "stdout",
     "output_type": "stream",
     "text": [
      "Number of entries: 60\n"
     ]
    }
   ],
   "source": [
    "\n",
    "from IPython.display import HTML, display\n",
    "import tabulate\n",
    "\n",
    "test_data = spark.sparkContext.textFile(test_file) \\\n",
    "    .map(lambda line: line.split('\\t')) \\\n",
    "    .filter(lambda line: len(line) == 6) \\\n",
    "    .map(lambda line: (line[2], line[4])) \\\n",
    "    .reduceByKey(lambda a, b: round(float(a) + float(b), 2))\\\n",
    "    .collect()\n",
    "\n",
    "print(\"Number of entries:\", len(test_data))\n",
    "\n",
    "#print(test_data)"
   ]
  },
  {
   "cell_type": "markdown",
   "metadata": {},
   "source": [
    "## Read file, store is key, sales is value. Calculate total sales per store. Print top three"
   ]
  },
  {
   "cell_type": "code",
   "execution_count": 7,
   "metadata": {},
   "outputs": [
    {
     "data": {
      "text/html": [
       "<table>\n",
       "<tbody>\n",
       "<tr><td>Chula Vista</td><td style=\"text-align: right;\">1118.65</td></tr>\n",
       "<tr><td>Portland   </td><td style=\"text-align: right;\">1037.1 </td></tr>\n",
       "<tr><td>Gilbert    </td><td style=\"text-align: right;\"> 969.41</td></tr>\n",
       "</tbody>\n",
       "</table>"
      ],
      "text/plain": [
       "<IPython.core.display.HTML object>"
      ]
     },
     "metadata": {},
     "output_type": "display_data"
    }
   ],
   "source": [
    "test_data = spark.sparkContext.textFile(test_file) \\\n",
    "    .map(lambda line: line.split('\\t')) \\\n",
    "    .filter(lambda line: len(line) == 6) \\\n",
    "    .map(lambda line: (line[2], line[4])) \\\n",
    "    .reduceByKey(lambda a, b: round(float(a) + float(b), 2)) \\\n",
    "    .sortBy(lambda tuple: float(tuple[1]), ascending=False) \\\n",
    "    .take(3)\n",
    "\n",
    "\n",
    "display(HTML(tabulate.tabulate(test_data, tablefmt='html')))"
   ]
  },
  {
   "cell_type": "code",
   "execution_count": null,
   "metadata": {},
   "outputs": [],
   "source": []
  }
 ],
 "metadata": {
  "kernelspec": {
   "display_name": "Python 3",
   "language": "python",
   "name": "python3"
  },
  "language_info": {
   "codemirror_mode": {
    "name": "ipython",
    "version": 3
   },
   "file_extension": ".py",
   "mimetype": "text/x-python",
   "name": "python",
   "nbconvert_exporter": "python",
   "pygments_lexer": "ipython3",
   "version": "3.6.4"
  }
 },
 "nbformat": 4,
 "nbformat_minor": 1
}
