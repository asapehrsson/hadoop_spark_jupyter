{
 "cells": [
  {
   "cell_type": "markdown",
   "metadata": {},
   "source": [
    "## Using tsv file + map() and filter()\n",
    "Use spark context to read a text file \"line by line\""
   ]
  },
  {
   "cell_type": "code",
   "execution_count": null,
   "metadata": {
    "collapsed": true
   },
   "outputs": [],
   "source": [
    "import findspark\n",
    "\n",
    "from IPython.display import display\n",
    "from pyspark.sql import SparkSession\n",
    "\n",
    "findspark.init(\"/usr/local/spark-2.3.0-bin-hadoop2.7/\")\n",
    "\n",
    "spark = SparkSession.builder.appName(\"basics\").getOrCreate()\n",
    "test_file = \"/Users/asapehrsson/dev/learn/intro_to_hadoop_and_mapreduce/data/purchases_sample.tsv\""
   ]
  },
  {
   "cell_type": "markdown",
   "metadata": {},
   "source": [
    "### Read file, store is key, sales is value. Sort by key (even though we don't use it)"
   ]
  },
  {
   "cell_type": "code",
   "execution_count": 4,
   "metadata": {
    "collapsed": false
   },
   "outputs": [
    {
     "name": "stdout",
     "output_type": "stream",
     "text": [
      "Number of entries: 100\n"
     ]
    }
   ],
   "source": [
    "test_data = spark.sparkContext.textFile(test_file) \\\n",
    "    .map(lambda line: line.split('\\t')) \\\n",
    "    .filter(lambda line: len(line) == 6) \\\n",
    "    .map(lambda line: (line[2], line[4])) \\\n",
    "    .sortByKey() \\\n",
    "    .collect()\n",
    "\n",
    "print(\"Number of entries:\", len(test_data))\n"
   ]
  },
  {
   "cell_type": "markdown",
   "metadata": {},
   "source": [
    "### Read file, store is key, sales is value. Calculate total sales per store."
   ]
  },
  {
   "cell_type": "code",
   "execution_count": 5,
   "metadata": {
    "collapsed": true
   },
   "outputs": [
    {
     "name": "stdout",
     "output_type": "stream",
     "text": [
      "Number of entries: 60\n"
     ]
    }
   ],
   "source": [
    "import tabulate\n",
    "from IPython.display import HTML\n",
    "\n",
    "test_data = spark.sparkContext.textFile(test_file) \\\n",
    "    .map(lambda line: line.split('\\t')) \\\n",
    "    .filter(lambda line: len(line) == 6) \\\n",
    "    .map(lambda line: (line[2], line[4])) \\\n",
    "    .reduceByKey(lambda a, b: round(float(a) + float(b), 2)) \\\n",
    "    .collect()\n",
    "\n",
    "print(\"Number of entries:\", len(test_data))\n",
    "\n",
    "#print(test_data)\n"
   ]
  },
  {
   "cell_type": "markdown",
   "metadata": {},
   "source": [
    "### Read file, store is key, sales is value. Calculate total sales per store. Print top three"
   ]
  },
  {
   "cell_type": "code",
   "execution_count": 64,
   "metadata": {},
   "outputs": [
    {
     "data": {
      "text/html": [
       "<table>\n",
       "<tbody>\n",
       "<tr><td>Chula Vista</td><td style=\"text-align: right;\">1118.65</td></tr>\n",
       "<tr><td>Portland   </td><td style=\"text-align: right;\">1037.1 </td></tr>\n",
       "<tr><td>Gilbert    </td><td style=\"text-align: right;\"> 969.41</td></tr>\n",
       "</tbody>\n",
       "</table>"
      ],
      "text/plain": [
       "<table>\n",
       "<tbody>\n",
       "<tr><td>Chula Vista</td><td style=\"text-align: right;\">1118.65</td></tr>\n",
       "<tr><td>Portland   </td><td style=\"text-align: right;\">1037.1 </td></tr>\n",
       "<tr><td>Gilbert    </td><td style=\"text-align: right;\"> 969.41</td></tr>\n",
       "</tbody>\n",
       "</table>"
      ]
     },
     "execution_count": 0,
     "metadata": {},
     "output_type": "execute_result"
    }
   ],
   "source": [
    "test_data = spark.sparkContext.textFile(test_file) \\\n",
    "    .map(lambda line: line.split('\\t')) \\\n",
    "    .filter(lambda line: len(line) == 6) \\\n",
    "    .map(lambda line: (line[2], line[4])) \\\n",
    "    .reduceByKey(lambda a, b: round(float(a) + float(b), 2)) \\\n",
    "    .sortBy(lambda tuple: float(tuple[1]), ascending=False) \\\n",
    "    .take(3)\n",
    "\n",
    "display(HTML(tabulate.tabulate(test_data, tablefmt='html')))\n"
   ]
  },
  {
   "cell_type": "code",
   "execution_count": 65,
   "metadata": {},
   "outputs": [],
   "source": [
    "\n"
   ]
  }
 ],
 "metadata": {
  "kernelspec": {
   "display_name": "Python 2",
   "language": "python",
   "name": "python2"
  },
  "language_info": {
   "codemirror_mode": {
    "name": "ipython",
    "version": 2
   },
   "file_extension": ".py",
   "mimetype": "text/x-python",
   "name": "python",
   "nbconvert_exporter": "python",
   "pygments_lexer": "ipython2",
   "version": "2.7.6"
  }
 },
 "nbformat": 4,
 "nbformat_minor": 0
}
