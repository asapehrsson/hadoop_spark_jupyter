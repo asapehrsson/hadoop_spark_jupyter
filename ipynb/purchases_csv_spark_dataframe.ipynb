{
 "cells": [
  {
   "cell_type": "markdown",
   "metadata": {},
   "source": [
    "## Using tsv file and DataFrame + Schema manipulation\n",
    "Using the DataFrameReader that is associated with our SparkSession."
   ]
  },
  {
   "cell_type": "code",
   "execution_count": 2,
   "metadata": {
    "collapsed": true
   },
   "outputs": [
    {
     "name": "stdout",
     "output_type": "stream",
     "text": [
      "root\n |-- date: date (nullable = true)\n |-- time: string (nullable = true)\n |-- store: string (nullable = true)\n |-- item: string (nullable = true)\n |-- cost: float (nullable = true)\n |-- payment: string (nullable = true)\n\n"
     ]
    }
   ],
   "source": [
    "import findspark\n",
    "\n",
    "from IPython.display import display\n",
    "from pyspark.sql import SparkSession\n",
    "\n",
    "findspark.init(\"/usr/local/spark-2.3.0-bin-hadoop2.7/\")\n",
    "\n",
    "spark = SparkSession.builder.appName(\"basics\").getOrCreate()\n",
    "test_file = \"/Users/asapehrsson/dev/learn/intro_to_hadoop_and_mapreduce/data/purchases_sample.tsv\"\n",
    "\n",
    "import pyspark.sql.functions as func\n",
    "from pyspark.sql.types import *\n",
    "\n",
    "# Create a schema\n",
    "# https://databricks.com/blog/2017/06/13/five-spark-sql-utility-functions-extract-explore-complex-data-types.html\n",
    "\n",
    "schema = StructType() \\\n",
    "    .add(\"date\", DateType(), True) \\\n",
    "    .add(\"time\", StringType(), True) \\\n",
    "    .add(\"store\", StringType(), True) \\\n",
    "    .add(\"item\", StringType(), True) \\\n",
    "    .add(\"cost\", FloatType(), True) \\\n",
    "    .add(\"payment\", StringType(), True)\n",
    "\n",
    "ds = spark.read \\\n",
    "    .csv(test_file, schema=schema, sep=\"\\t\")\n",
    "\n",
    "ds.printSchema()"
   ]
  },
  {
   "cell_type": "markdown",
   "metadata": {},
   "source": [
    "### Calculate total sales per store. Sort by total sales. Show a few.\n",
    "sort() and orderBy() is aliases. \n",
    "\n",
    "Inner workings of sort is described here:\n",
    "https://stackoverflow.com/questions/32887595/how-does-spark-achieve-sort-order"
   ]
  },
  {
   "cell_type": "code",
   "execution_count": 4,
   "metadata": {
    "collapsed": true
   },
   "outputs": [
    {
     "name": "stdout",
     "output_type": "stream",
     "text": [
      "+----------+------------------+\n|     store|   sum_column_name|\n+----------+------------------+\n|   Madison|44.470001220703125|\n|     Tampa| 53.18000030517578|\n|     Miami|             53.25|\n|   Hialeah|115.20999908447266|\n|Birmingham|118.04000091552734|\n+----------+------------------+\nonly showing top 5 rows\n\n"
     ]
    }
   ],
   "source": [
    "#df.show()\n",
    "#df.groupBy(\"store\").count().show()\n",
    "\n",
    "ds.groupBy(\"store\") \\\n",
    "    .agg(func.sum(\"cost\") \\\n",
    "             .alias(\"sum_column_name\")) \\\n",
    "    .sort(\"sum_column_name\") \\\n",
    "    .show(n = 5)\n"
   ]
  },
  {
   "cell_type": "markdown",
   "metadata": {},
   "source": [
    "### Calculate total sales per store. Orter by total sales. take() returns a Array()."
   ]
  },
  {
   "cell_type": "code",
   "execution_count": 5,
   "metadata": {},
   "outputs": [
    {
     "data": {
      "text/html": [
       "<table>\n",
       "<tbody>\n",
       "<tr><td>Chula Vista</td><td style=\"text-align: right;\">1118.65</td></tr>\n",
       "<tr><td>Portland   </td><td style=\"text-align: right;\">1037.1 </td></tr>\n",
       "<tr><td>Gilbert    </td><td style=\"text-align: right;\"> 969.41</td></tr>\n",
       "</tbody>\n",
       "</table>"
      ],
      "text/plain": [
       "<table>\n",
       "<tbody>\n",
       "<tr><td>Chula Vista</td><td style=\"text-align: right;\">1118.65</td></tr>\n",
       "<tr><td>Portland   </td><td style=\"text-align: right;\">1037.1 </td></tr>\n",
       "<tr><td>Gilbert    </td><td style=\"text-align: right;\"> 969.41</td></tr>\n",
       "</tbody>\n",
       "</table>"
      ]
     },
     "execution_count": 0,
     "metadata": {},
     "output_type": "execute_result"
    }
   ],
   "source": [
    "from IPython.display import HTML, display\n",
    "import tabulate\n",
    "\n",
    "test_data = ds.groupBy(\"store\") \\\n",
    "    .agg(func.sum(\"cost\") \\\n",
    "             .alias(\"sum_column_name\")) \\\n",
    "    .sort(\"sum_column_name\", ascending=False) \\\n",
    "  .take(3)\n",
    "\n",
    "\n",
    "display(HTML(tabulate.tabulate(test_data, tablefmt='html')))"
   ]
  },
  {
   "cell_type": "code",
   "execution_count": 14,
   "metadata": {},
   "outputs": [
    {
     "name": "stdout",
     "output_type": "stream",
     "text": [
      "== Physical Plan ==\n*(2) Sort [store#139 ASC NULLS FIRST], true, 0\n+- Exchange rangepartitioning(store#139 ASC NULLS FIRST, 200)\n   +- *(1) FileScan csv [date#137,time#138,store#139,item#140,cost#141,payment#142] Batched: false, Format: CSV, Location: InMemoryFileIndex[file:/Users/asapehrsson/dev/learn/intro_to_hadoop_and_mapreduce/data/purchases_..., PartitionFilters: [], PushedFilters: [], ReadSchema: struct<date:date,time:string,store:string,item:string,cost:float,payment:string>\n"
     ]
    }
   ],
   "source": [
    "ds.sort(\"store\").explain()"
   ]
  },
  {
   "cell_type": "markdown",
   "metadata": {},
   "source": [
    "### Calculate total sales per store. Alt 2. Orter by total sales."
   ]
  },
  {
   "cell_type": "code",
   "execution_count": 15,
   "metadata": {},
   "outputs": [
    {
     "data": {
      "text/plain": [
       "[Row(store='Chula Vista', sum_total=1118.650001525879),\n Row(store='Portland', sum_total=1037.1000061035156),\n Row(store='Gilbert', sum_total=969.4100036621094),\n Row(store='Norfolk', sum_total=894.0899963378906),\n Row(store='Corpus Christi', sum_total=879.3999938964844)]"
      ]
     },
     "execution_count": 15,
     "metadata": {},
     "output_type": "execute_result"
    }
   ],
   "source": [
    "from pyspark.sql.functions import desc\n",
    "\n",
    "ds.groupBy(\"store\") \\\n",
    "    .sum(\"cost\") \\\n",
    "    .withColumnRenamed(\"sum(cost)\", \"sum_total\") \\\n",
    "    .sort(desc(\"sum_total\")) \\\n",
    "    .limit(5) \\\n",
    "    .collect()\n"
   ]
  },
  {
   "cell_type": "code",
   "execution_count": 16,
   "metadata": {},
   "outputs": [
    {
     "data": {
      "text/plain": [
       "[Row(dayofweek=2, sum_total=24596.899976730347)]"
      ]
     },
     "execution_count": 16,
     "metadata": {},
     "output_type": "execute_result"
    }
   ],
   "source": [
    "from pyspark.sql.functions import dayofweek\n",
    "\n",
    "ds.groupBy(dayofweek(\"date\").alias(\"dayofweek\")) \\\n",
    "    .sum(\"cost\") \\\n",
    "    .withColumnRenamed(\"sum(cost)\", \"sum_total\") \\\n",
    "    .sort(desc(\"sum_total\")) \\\n",
    "    .collect()"
   ]
  },
  {
   "cell_type": "code",
   "execution_count": 17,
   "metadata": {},
   "outputs": [],
   "source": []
  },
  {
   "cell_type": "code",
   "execution_count": null,
   "metadata": {},
   "outputs": [],
   "source": []
  }
 ],
 "metadata": {
  "kernelspec": {
   "display_name": "Python 2",
   "language": "python",
   "name": "python2"
  },
  "language_info": {
   "codemirror_mode": {
    "name": "ipython",
    "version": 2
   },
   "file_extension": ".py",
   "mimetype": "text/x-python",
   "name": "python",
   "nbconvert_exporter": "python",
   "pygments_lexer": "ipython2",
   "version": "2.7.6"
  }
 },
 "nbformat": 4,
 "nbformat_minor": 0
}
